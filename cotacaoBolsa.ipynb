{
 "cells": [
  {
   "cell_type": "code",
   "execution_count": null,
   "metadata": {},
   "outputs": [],
   "source": [
    "import pandas as pd\n",
    "from pandas_datareader import data as wb\n",
    "\n",
    "def cotacoes(ticker, start):\n",
    "    # Esta função obtem as cotações diárias para o papel informado\n",
    "    \n",
    "    # PARÂMETROS:\n",
    "    # tickers: string, código de negociação do papel, ABCD12\n",
    "    # start:   string, data de inicio, aaaa-mm-dd\n",
    "    \n",
    "    # RETORNO:\n",
    "    # Retorna dataframe de cotações para o Ticker informado\n",
    "\n",
    "    try:\n",
    "        data = wb.DataReader(ticker + \".SA\", data_source='yahoo', start=start)\n",
    "        data[\"Data\"] = pd.to_datetime(data.index)\n",
    "        data[\"Ticker\"] = ticker\n",
    "        return data\n",
    "\n",
    "    except:\n",
    "        print(ticker, \": Sem dados!\")\n",
    "        return None\n",
    "\n",
    "dfCotacoes = cotacoes(\"TRPL4\", \"2010-01-01\")\n",
    "\n",
    "display(dfCotacoes)\n",
    "\n",
    "dfCotacoes.to_excel(\"Cotações.xlsx\", index=False)"
   ]
  },
  {
   "cell_type": "code",
   "execution_count": null,
   "metadata": {},
   "outputs": [],
   "source": [
    "import pandas as pd # Para evitar escrever pandas e trocar pela escrita apenas de pd para facilitar\n",
    "from pandas_datareader import data as web # Evita a escrita do data e troca pelo web\n",
    "import matplotlib.pyplot as plt\n",
    "\n",
    "# vamos pegar cotação do Indice e de Petrobras\n",
    "\n",
    "#indice\n",
    "df = web.DataReader(f'^BVSP', data_source='yahoo', start=f'02-20-2020', end='02-20-2021')\n",
    "display(df)\n",
    "df[\"Adj Close\"].plot(figsize=(15, 10))\n",
    "plt.show()\n",
    "\n",
    "#PETR4\n",
    "df = web.DataReader(f'PETR4.SA', data_source='yahoo', start=f'02-20-2020', end='02-20-2021')\n",
    "display(df)\n",
    "df[\"Adj Close\"].plot(figsize=(15, 10))\n",
    "plt.show()"
   ]
  }
 ],
 "metadata": {
  "kernelspec": {
   "display_name": "Python 3.10.8 64-bit",
   "language": "python",
   "name": "python3"
  },
  "language_info": {
   "codemirror_mode": {
    "name": "ipython",
    "version": 3
   },
   "file_extension": ".py",
   "mimetype": "text/x-python",
   "name": "python",
   "nbconvert_exporter": "python",
   "pygments_lexer": "ipython3",
   "version": "3.10.8"
  },
  "orig_nbformat": 4,
  "vscode": {
   "interpreter": {
    "hash": "1d727708843059c2a8af3ff00a9136e1b6aa327487eb8d20bcf60090d8de6b8e"
   }
  }
 },
 "nbformat": 4,
 "nbformat_minor": 2
}
