{
 "cells": [
  {
   "cell_type": "code",
   "execution_count": null,
   "metadata": {},
   "outputs": [],
   "source": [
    "import requests\n",
    "import json\n",
    "\n",
    "cotacoes = requests.get(\"https://economia.awesomeapi.com.br/last/USD-BRL,EUR-BRL,BTC-BRL\")\n",
    "cotacoes = cotacoes.json()\n",
    "cotacao_dolar = cotacoes['USDBRL'][\"bid\"]\n",
    "cotacao_euro = cotacoes['EURBRL'][\"bid\"]\n",
    "cotacao_bitcoin = cotacoes['BTCBRL'][\"bid\"]\n",
    "\n",
    "print(\"\\n Cotação do Dólar Americano/Real Brasileiro: \", cotacao_dolar)\n",
    "print(\"\\n Cotação do Euro/Real Brasileiro: \", cotacao_euro)\n",
    "print(\"\\n Cotação do Bitcoin/Real Brasileiro: \", cotacao_bitcoin)\n",
    "print(\"\\n Cotações sem formatação: \\n\",cotacoes)"
   ]
  },
  {
   "cell_type": "code",
   "execution_count": null,
   "metadata": {},
   "outputs": [],
   "source": [
    "import requests\n",
    "import pandas as pd\n",
    "from datetime import datetime\n",
    "import time\n",
    "\n",
    "while True:\n",
    "    requisicao = requests.get(\"https://economia.awesomeapi.com.br/last/USD-BRL,EUR-BRL,BTC-BRL\")\n",
    "\n",
    "    requisicao_dic = requisicao.json()\n",
    "    cotacao_dolar = requisicao_dic[\"USDBRL\"][\"bid\"]\n",
    "    cotacao_euro = requisicao_dic[\"EURBRL\"][\"bid\"]\n",
    "    cotacao_btc = requisicao_dic[\"BTCBRL\"][\"bid\"]\n",
    "\n",
    "    tabela = pd.read_excel(\"Cotações.xlsx\")\n",
    "    tabela.loc[0, \"Cotação\"] = float(cotacao_dolar)\n",
    "    tabela.loc[1, \"Cotação\"] = float(cotacao_euro)\n",
    "    tabela.loc[2, \"Cotação\"] = float(cotacao_btc) * 1000\n",
    "    tabela.loc[0, \"Data Última Atualização\"] = datetime.now()\n",
    "\n",
    "    tabela.to_excel(\"Cotações.xlsx\", index=False)\n",
    "    print(f\"Cotação Atualizada. {datetime.now()}\")\n",
    "    \n",
    "    time.sleep(60)"
   ]
  },
  {
   "cell_type": "code",
   "execution_count": null,
   "metadata": {},
   "outputs": [],
   "source": [
    "import requests\n",
    "import pandas as pd\n",
    "from datetime import datetime\n",
    "import time\n",
    "\n",
    "while True:\n",
    "    cotacoes = requests.get(\"https://economia.awesomeapi.com.br/last/USD-BRL,EUR-BRL,BTC-BRL\")\n",
    "    cotacoes = cotacoes.json()\n",
    "    cotacao_dolar = cotacoes['USDBRL'][\"bid\"]\n",
    "    cotacao_euro = cotacoes['EURBRL'][\"bid\"]\n",
    "    cotacao_bitcoin = cotacoes['BTCBRL'][\"bid\"]\n",
    "\n",
    "    print(\"\\n Cotação do Dólar Americano/Real Brasileiro: \", cotacao_dolar)\n",
    "    print(\"\\n Cotação do Euro/Real Brasileiro: \", cotacao_euro)\n",
    "    print(\"\\n Cotação do Bitcoin/Real Brasileiro: \", cotacao_bitcoin)\n",
    "    print(\"\\n Cotações sem formatação: \\n\",cotacoes)\n",
    "    \n",
    "    time.sleep(10)"
   ]
  }
 ],
 "metadata": {
  "kernelspec": {
   "display_name": "Python 3.10.8 64-bit",
   "language": "python",
   "name": "python3"
  },
  "language_info": {
   "codemirror_mode": {
    "name": "ipython",
    "version": 3
   },
   "file_extension": ".py",
   "mimetype": "text/x-python",
   "name": "python",
   "nbconvert_exporter": "python",
   "pygments_lexer": "ipython3",
   "version": "3.10.8"
  },
  "orig_nbformat": 4,
  "vscode": {
   "interpreter": {
    "hash": "1d727708843059c2a8af3ff00a9136e1b6aa327487eb8d20bcf60090d8de6b8e"
   }
  }
 },
 "nbformat": 4,
 "nbformat_minor": 2
}
